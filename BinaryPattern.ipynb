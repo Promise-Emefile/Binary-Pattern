{
 "cells": [
  {
   "cell_type": "code",
   "execution_count": 4,
   "id": "2e51b03c-a29c-4836-b532-a51892da4f85",
   "metadata": {},
   "outputs": [],
   "source": [
    "import pandas as pd\n",
    "import numpy as np\n",
    "from sklearn.model_selection import train_test_split\n",
    "from sklearn.ensemble import RandomForestClassifier\n",
    "from sklearn.metrics import accuracy_score"
   ]
  },
  {
   "cell_type": "code",
   "execution_count": 5,
   "id": "da96105f-9c71-44eb-9a2d-72ac2bca1bf7",
   "metadata": {},
   "outputs": [],
   "source": [
    "#Load the dataset properly (assuming it's a CSV file with no column names):\n",
    "\n",
    "df = pd.read_csv(\"binary_patterns.txt\", header=None)\n",
    "df.columns = [f\"Feature_{i}\" for i in range(df.shape[1])]\n"
   ]
  },
  {
   "cell_type": "code",
   "execution_count": 6,
   "id": "54408884-3ba9-4efe-94c8-55a9956f7859",
   "metadata": {
    "panel-layout": {
     "height": 0,
     "visible": true,
     "width": 100
    }
   },
   "outputs": [],
   "source": [
    "#Create lagged features (previous values to help the model recognize patterns):\n",
    "\n",
    "for i in range(1, 4):  # Create 3 previous-step features\n",
    "    df[f\"Lag_{i}\"] = df[\"Feature_0\"].shift(i)\n",
    "\n",
    "df.dropna(inplace=True)  # Remove NaN values from shifting\n"
   ]
  },
  {
   "cell_type": "code",
   "execution_count": 7,
   "id": "e2867d9e-5e0b-4205-bf5f-2de78cbf0007",
   "metadata": {},
   "outputs": [],
   "source": [
    "#handling imbalaced data\n",
    "\n",
    "from imblearn.over_sampling import SMOTE\n",
    "\n",
    "X = df.drop(columns=[\"Feature_0\"])\n",
    "y = df[\"Feature_0\"]\n",
    "\n",
    "smote = SMOTE(random_state=42)\n",
    "X_resampled, y_resampled = smote.fit_resample(X, y)\n"
   ]
  },
  {
   "cell_type": "code",
   "execution_count": 8,
   "id": "582f3c57-2f67-43f3-b3f8-a7ad8756e429",
   "metadata": {},
   "outputs": [],
   "source": [
    "#Bulidng Random Forest Classifier with class balancing\n",
    "\n",
    "from sklearn.metrics import accuracy_score, classification_report, confusion_matrix\n",
    "\n",
    "X_train, X_test, y_train, y_test = train_test_split(X_resampled, y_resampled, test_size=0.2, random_state=42)\n",
    "\n",
    "# Train the model\n",
    "model = RandomForestClassifier(class_weight=\"balanced\", n_estimators=100, random_state=42)\n",
    "model.fit(X_train, y_train)\n",
    "y_pred = model.predict(X_test)"
   ]
  },
  {
   "cell_type": "code",
   "execution_count": 9,
   "id": "b86252f8-b873-4140-9b8c-954827a617e2",
   "metadata": {
    "panel-layout": {
     "height": 0,
     "visible": true,
     "width": 100
    }
   },
   "outputs": [
    {
     "name": "stdout",
     "output_type": "stream",
     "text": [
      "[[435   0]\n",
      " [  1 452]]\n",
      "\n",
      "\n",
      "              precision    recall  f1-score   support\n",
      "\n",
      "           0       1.00      1.00      1.00       435\n",
      "           1       1.00      1.00      1.00       453\n",
      "\n",
      "    accuracy                           1.00       888\n",
      "   macro avg       1.00      1.00      1.00       888\n",
      "weighted avg       1.00      1.00      1.00       888\n",
      "\n"
     ]
    }
   ],
   "source": [
    "print(confusion_matrix(y_test, y_pred))\n",
    "print('\\n')\n",
    "print(classification_report(y_test, y_pred))"
   ]
  },
  {
   "cell_type": "code",
   "execution_count": null,
   "id": "3f6ce0c7-f8b8-4ecd-9c07-2bf3c00b78c7",
   "metadata": {},
   "outputs": [],
   "source": []
  }
 ],
 "metadata": {
  "kernelspec": {
   "display_name": "Python 3 (ipykernel)",
   "language": "python",
   "name": "python3"
  },
  "language_info": {
   "codemirror_mode": {
    "name": "ipython",
    "version": 3
   },
   "file_extension": ".py",
   "mimetype": "text/x-python",
   "name": "python",
   "nbconvert_exporter": "python",
   "pygments_lexer": "ipython3",
   "version": "3.12.7"
  },
  "panel-cell-order": [
   "54408884-3ba9-4efe-94c8-55a9956f7859",
   "b86252f8-b873-4140-9b8c-954827a617e2",
   "1ccfea03-5384-49b3-ac15-a135843b2789"
  ]
 },
 "nbformat": 4,
 "nbformat_minor": 5
}
